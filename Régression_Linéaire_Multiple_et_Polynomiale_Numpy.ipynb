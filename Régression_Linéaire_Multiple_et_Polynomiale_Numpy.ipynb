{
  "nbformat": 4,
  "nbformat_minor": 0,
  "metadata": {
    "colab": {
      "name": "Régression Linéaire Multiple et Polynomiale Numpy.ipynb",
      "provenance": [],
      "authorship_tag": "ABX9TyP6wZIyL5vAziogmCqoX2rI",
      "include_colab_link": true
    },
    "kernelspec": {
      "name": "python3",
      "display_name": "Python 3"
    },
    "language_info": {
      "name": "python"
    }
  },
  "cells": [
    {
      "cell_type": "markdown",
      "metadata": {
        "id": "view-in-github",
        "colab_type": "text"
      },
      "source": [
        "<a href=\"https://colab.research.google.com/github/WISSAL-MN/Regression-Lineaire-Numpy/blob/main/R%C3%A9gression_Lin%C3%A9aire_Multiple_et_Polynomiale_Numpy.ipynb\" target=\"_parent\"><img src=\"https://colab.research.google.com/assets/colab-badge.svg\" alt=\"Open In Colab\"/></a>"
      ]
    },
    {
      "cell_type": "code",
      "execution_count": 2,
      "metadata": {
        "colab": {
          "base_uri": "https://localhost:8080/",
          "height": 35
        },
        "id": "6zrkLNKRJTns",
        "outputId": "935dfdc0-1fe3-419c-d6f1-0cfaedcbf75c"
      },
      "outputs": [
        {
          "output_type": "execute_result",
          "data": {
            "text/plain": [
              "'https://github.com/WISSAL-MN'"
            ],
            "application/vnd.google.colaboratory.intrinsic+json": {
              "type": "string"
            }
          },
          "metadata": {},
          "execution_count": 2
        }
      ],
      "source": [
        "'https://github.com/WISSAL-MN'"
      ]
    },
    {
      "cell_type": "code",
      "source": [
        "import numpy as np\n",
        "from sklearn.datasets import make_regression\n",
        "import matplotlib.pyplot as plt"
      ],
      "metadata": {
        "id": "qrQHKJdlJp5H"
      },
      "execution_count": 3,
      "outputs": []
    },
    {
      "cell_type": "markdown",
      "source": [
        "# 1. Régression Polynomiale: 1 variable \n",
        "\n",
        "# 1.1 Dataset"
      ],
      "metadata": {
        "id": "zDp2Jn6JJt29"
      }
    },
    {
      "cell_type": "code",
      "source": [
        "np.random.seed(0) # permet de reproduire l'aléatoire\n",
        "\n",
        "x, y = make_regression(n_samples=100, n_features=1, noise = 10) # creation d'un dataset (x, y) linéaire\n",
        "y = y + abs(y/2) # modifie les valeurs de y pour rendre le dataset non-linéaire\n",
        "\n",
        "plt.scatter(x, y) # afficher les résultats. x en abscisse et y en ordonnée"
      ],
      "metadata": {
        "colab": {
          "base_uri": "https://localhost:8080/",
          "height": 283
        },
        "id": "Dh4AoS16J68-",
        "outputId": "37015fdb-a321-4773-bb2c-ec566d2f7e3d"
      },
      "execution_count": 4,
      "outputs": [
        {
          "output_type": "execute_result",
          "data": {
            "text/plain": [
              "<matplotlib.collections.PathCollection at 0x7eff054db7d0>"
            ]
          },
          "metadata": {},
          "execution_count": 4
        },
        {
          "output_type": "display_data",
          "data": {
            "text/plain": [
              "<Figure size 432x288 with 1 Axes>"
            ],
            "image/png": "[encoded data removed]"
          },
          "metadata": {
            "needs_background": "light"
          }
        }
      ]
    },
    {
      "cell_type": "code",
      "source": [
        "# Verification des dimensions\n",
        "print(x.shape)\n",
        "print(y.shape)\n",
        "\n",
        "# redimensionner y\n",
        "y = y.reshape(y.shape[0], 1)\n",
        "print(y.shape)"
      ],
      "metadata": {
        "colab": {
          "base_uri": "https://localhost:8080/"
        },
        "id": "OIVvDk6OKD4F",
        "outputId": "3b421073-2e43-4771-bdd7-5404c9ba44e4"
      },
      "execution_count": 5,
      "outputs": [
        {
          "output_type": "stream",
          "name": "stdout",
          "text": [
            "(100, 1)\n",
            "(100,)\n",
            "(100, 1)\n"
          ]
        }
      ]
    },
    {
      "cell_type": "code",
      "source": [
        "# Création de la matrice X, inclut le Biais\n",
        "X = np.hstack((x, np.ones(x.shape)))\n",
        "X = np.hstack((x**2, X)) # ajoute le vecteur x^2 a la gauche de la matrice X\n",
        "\n",
        "print(X.shape)\n",
        "print(X[:10])"
      ],
      "metadata": {
        "colab": {
          "base_uri": "https://localhost:8080/"
        },
        "id": "4NTz_vAqKGCd",
        "outputId": "b8a7f621-f7b1-4c08-9d8b-4df6d25f9deb"
      },
      "execution_count": 6,
      "outputs": [
        {
          "output_type": "stream",
          "name": "stdout",
          "text": [
            "(100, 3)\n",
            "[[ 0.12927848 -0.35955316  1.        ]\n",
            " [ 0.95382381  0.97663904  1.        ]\n",
            " [ 0.1618788   0.40234164  1.        ]\n",
            " [ 0.66120688 -0.81314628  1.        ]\n",
            " [ 0.78816353 -0.88778575  1.        ]\n",
            " [ 0.19701457  0.44386323  1.        ]\n",
            " [ 0.95507205 -0.97727788  1.        ]\n",
            " [ 0.18346819  0.42833187  1.        ]\n",
            " [ 0.04337847  0.20827498  1.        ]\n",
            " [ 0.09706498 -0.31155253  1.        ]]\n"
          ]
        }
      ]
    },
    {
      "cell_type": "code",
      "source": [
        "# Initialisation du vecteur theta aléatoire, avec 3 éléments (car X a trois colonnes)\n",
        "theta = np.random.randn(3, 1)\n",
        "theta"
      ],
      "metadata": {
        "colab": {
          "base_uri": "https://localhost:8080/"
        },
        "id": "ug5QJzgSKII1",
        "outputId": "54b56804-d1b0-46ef-e982-b93fbd9d7ebd"
      },
      "execution_count": 7,
      "outputs": [
        {
          "output_type": "execute_result",
          "data": {
            "text/plain": [
              "array([[-0.63743703],\n",
              "       [-0.39727181],\n",
              "       [-0.13288058]])"
            ]
          },
          "metadata": {},
          "execution_count": 7
        }
      ]
    },
    {
      "cell_type": "markdown",
      "source": [
        "# 1.2 Modèle Linéaire"
      ],
      "metadata": {
        "id": "Uc3srPkqKK4B"
      }
    },
    {
      "cell_type": "code",
      "source": [
        "def model(X, theta):\n",
        "    return X.dot(theta)"
      ],
      "metadata": {
        "id": "-09rzI1xKMF1"
      },
      "execution_count": 8,
      "outputs": []
    },
    {
      "cell_type": "code",
      "source": [
        "plt.scatter(x, y)\n",
        "plt.scatter(x, model(X, theta), c='r')"
      ],
      "metadata": {
        "colab": {
          "base_uri": "https://localhost:8080/",
          "height": 283
        },
        "id": "76JrYLxyKObd",
        "outputId": "61bd3f76-5b98-4bd3-b46d-121333c78f33"
      },
      "execution_count": 9,
      "outputs": [
        {
          "output_type": "execute_result",
          "data": {
            "text/plain": [
              "<matplotlib.collections.PathCollection at 0x7efee4613d10>"
            ]
          },
          "metadata": {},
          "execution_count": 9
        },
        {
          "output_type": "display_data",
          "data": {
            "text/plain": [
              "<Figure size 432x288 with 1 Axes>"
            ],
            "image/png": "[encoded data removed]"
          },
          "metadata": {
            "needs_background": "light"
          }
        }
      ]
    },
    {
      "cell_type": "markdown",
      "source": [
        "# 1.3 Fonction Cout : Erreur Quadratique moyenne"
      ],
      "metadata": {
        "id": "7J04uBeMKTgl"
      }
    },
    {
      "cell_type": "code",
      "source": [
        "def cost_function(X, y, theta):\n",
        "    m = len(y)\n",
        "    return 1/(2*m) * np.sum((model(X, theta) - y)**2)"
      ],
      "metadata": {
        "id": "nB2cRTLaKU0O"
      },
      "execution_count": 10,
      "outputs": []
    },
    {
      "cell_type": "code",
      "source": [
        "cost_function(X, y, theta)"
      ],
      "metadata": {
        "colab": {
          "base_uri": "https://localhost:8080/"
        },
        "id": "zfv-xh1yKXHV",
        "outputId": "dfddcb04-6282-4652-8b94-b58b264d12e5"
      },
      "execution_count": 11,
      "outputs": [
        {
          "output_type": "execute_result",
          "data": {
            "text/plain": [
              "1328.6654828872622"
            ]
          },
          "metadata": {},
          "execution_count": 11
        }
      ]
    },
    {
      "cell_type": "code",
      "source": [
        ""
      ],
      "metadata": {
        "id": "O12rsGZjKa79"
      },
      "execution_count": null,
      "outputs": []
    },
    {
      "cell_type": "markdown",
      "source": [
        "# 1.4 Gradients et Descente de Gradient"
      ],
      "metadata": {
        "id": "DptTe1d2Kbh9"
      }
    },
    {
      "cell_type": "code",
      "source": [
        "def grad(X, y, theta):\n",
        "    m = len(y)\n",
        "    return 1/m * X.T.dot(model(X, theta) - y)"
      ],
      "metadata": {
        "id": "8579-Yt2Kc9V"
      },
      "execution_count": 12,
      "outputs": []
    },
    {
      "cell_type": "code",
      "source": [
        "def gradient_descent(X, y, theta, learning_rate, n_iterations):\n",
        "    \n",
        "    cost_history = np.zeros(n_iterations) # création d'un tableau de stockage pour enregistrer l'évolution du Cout du modele\n",
        "    \n",
        "    for i in range(0, n_iterations):\n",
        "        theta = theta - learning_rate * grad(X, y, theta) # mise a jour du parametre theta (formule du gradient descent)\n",
        "        cost_history[i] = cost_function(X, y, theta) # on enregistre la valeur du Cout au tour i dans cost_history[i]\n",
        "        \n",
        "    return theta, cost_history"
      ],
      "metadata": {
        "id": "dJA8ETF7KhTd"
      },
      "execution_count": 13,
      "outputs": []
    },
    {
      "cell_type": "markdown",
      "source": [
        "# 1.5 Phase d'entrainement\n",
        "On définit un nombre d'itérations, ainsi qu'un pas d'apprentissage , et c'est partit !\n",
        "\n",
        "Une fois le modèle entrainé, on observe les resultats par rapport a notre Dataset"
      ],
      "metadata": {
        "id": "8dXwk8eCKlds"
      }
    },
    {
      "cell_type": "code",
      "source": [
        "n_iterations = 1000\n",
        "learning_rate = 0.01\n",
        "\n",
        "theta_final, cost_history = gradient_descent(X, y, theta, learning_rate, n_iterations)"
      ],
      "metadata": {
        "id": "HrgJ9QH3Knd_"
      },
      "execution_count": 14,
      "outputs": []
    },
    {
      "cell_type": "code",
      "source": [
        "theta_final # voici les parametres du modele une fois que la machine a été entrainée"
      ],
      "metadata": {
        "colab": {
          "base_uri": "https://localhost:8080/"
        },
        "id": "ECkrk9AbKtOl",
        "outputId": "74212987-b184-40bc-c227-241e48a7b351"
      },
      "execution_count": 15,
      "outputs": [
        {
          "output_type": "execute_result",
          "data": {
            "text/plain": [
              "array([[ 8.60077615],\n",
              "       [42.23116732],\n",
              "       [ 8.18143081]])"
            ]
          },
          "metadata": {},
          "execution_count": 15
        }
      ]
    },
    {
      "cell_type": "code",
      "source": [
        "# création d'un vecteur prédictions qui contient les prédictions de notre modele final\n",
        "predictions = model(X, theta_final)\n",
        "\n",
        "# Affiche les résultats de prédictions (en rouge) par rapport a notre Dataset (en bleu)\n",
        "plt.scatter(x, y)\n",
        "plt.scatter(x, predictions, c='r')"
      ],
      "metadata": {
        "colab": {
          "base_uri": "https://localhost:8080/",
          "height": 282
        },
        "id": "85Estp3EKvql",
        "outputId": "62a38e8b-9db7-4ae8-8241-376fb7831515"
      },
      "execution_count": 16,
      "outputs": [
        {
          "output_type": "execute_result",
          "data": {
            "text/plain": [
              "<matplotlib.collections.PathCollection at 0x7efee45aa510>"
            ]
          },
          "metadata": {},
          "execution_count": 16
        },
        {
          "output_type": "display_data",
          "data": {
            "text/plain": [
              "<Figure size 432x288 with 1 Axes>"
            ],
            "image/png": "[encoded data removed]"
          },
          "metadata": {
            "needs_background": "light"
          }
        }
      ]
    },
    {
      "cell_type": "markdown",
      "source": [
        "# 1.6 Courbes d'apprentissage"
      ],
      "metadata": {
        "id": "dApBMMx-Kx29"
      }
    },
    {
      "cell_type": "markdown",
      "source": [
        "Pour vérifier si notre algorithme de Descente de gradient a bien fonctionné, on observe l'évolution de la fonction cout à travers les itérations. On est sensé obtenir une courbe qui diminue à chaque itération jusqu'à stagner a un niveau minimal (proche de zéro). Si la courbe ne suit pas ce motif, alors le pas learning_rate est peut-etre trop élevé, il faut prendre un pas plus faible."
      ],
      "metadata": {
        "id": "ibDOcDBcK3GN"
      }
    },
    {
      "cell_type": "code",
      "source": [
        "plt.plot(range(n_iterations), cost_history)"
      ],
      "metadata": {
        "colab": {
          "base_uri": "https://localhost:8080/",
          "height": 282
        },
        "id": "EkKlaEZXK4H9",
        "outputId": "1a063b21-1d1d-46fe-9129-bacf31f04683"
      },
      "execution_count": 17,
      "outputs": [
        {
          "output_type": "execute_result",
          "data": {
            "text/plain": [
              "[<matplotlib.lines.Line2D at 0x7efee45897d0>]"
            ]
          },
          "metadata": {},
          "execution_count": 17
        },
        {
          "output_type": "display_data",
          "data": {
            "text/plain": [
              "<Figure size 432x288 with 1 Axes>"
            ],
            "image/png": "[encoded data removed]"
          },
          "metadata": {
            "needs_background": "light"
          }
        }
      ]
    },
    {
      "cell_type": "code",
      "source": [
        ""
      ],
      "metadata": {
        "id": "Sf-WHTg2K610"
      },
      "execution_count": null,
      "outputs": []
    },
    {
      "cell_type": "markdown",
      "source": [
        "# 1.7 Evaluation finale\n",
        "Pour évaluer la réelle performance de notre modèle avec une métrique populaire (pour votre patron, client, ou vos collegues) on peut utiliser le coefficient de détermination, aussi connu sous le nom r au caré\n",
        ". Il nous vient de la méthode des moindres carrés. Plus le résultat est proche de 1, meilleur est votre modèle"
      ],
      "metadata": {
        "id": "CLYsOBbBK9_1"
      }
    },
    {
      "cell_type": "code",
      "source": [
        "def coef_determination(y, pred):\n",
        "    u = ((y - pred)**2).sum()\n",
        "    v = ((y - y.mean())**2).sum()\n",
        "    return 1 - u/v"
      ],
      "metadata": {
        "id": "M_i5mw6_LBVd"
      },
      "execution_count": 18,
      "outputs": []
    },
    {
      "cell_type": "code",
      "source": [
        "coef_determination(y, predictions)"
      ],
      "metadata": {
        "colab": {
          "base_uri": "https://localhost:8080/"
        },
        "id": "ID4zA2bmLDuG",
        "outputId": "92068fbc-8b75-4c39-cee7-1c861d22d390"
      },
      "execution_count": 20,
      "outputs": [
        {
          "output_type": "execute_result",
          "data": {
            "text/plain": [
              "0.9287186469389942"
            ]
          },
          "metadata": {},
          "execution_count": 20
        }
      ]
    },
    {
      "cell_type": "markdown",
      "source": [
        "# 2. Régression Multiples Variables\n",
        "C'est lorsqu'on integre plusieures variables \n",
        " à notre modèle que les choses commencent à devenir vraiment intéressantes. C'est peut-être aussi à ce moment que les gens commencent parfois à parler d'intelligence artificielle, car il est difficile pour un être humain de se représenter dans sa tête un modèle à plusieurs dimensions (nous n'évoluons que dans un espace 3D). On se dit alors que la machine, quant à elle, arrive à se réprésenter ces espaces, car elle y trouve le meilleur modèle (avec la descente de gradient) et les gens disent donc qu'elle est intelligente, alors que ce ne sont que des mathématiques."
      ],
      "metadata": {
        "id": "42ZUOfCULKk-"
      }
    },
    {
      "cell_type": "markdown",
      "source": [
        "# 2.1 Dataset"
      ],
      "metadata": {
        "id": "WsBd0ZVsLLwt"
      }
    },
    {
      "cell_type": "code",
      "source": [
        "np.random.seed(0) # permet de reproduire l'aléatoire\n",
        "\n",
        "x, y = make_regression(n_samples=100, n_features=2, noise = 10) # creation d'un dataset (x, y) linéaire\n",
        "\n",
        "plt.scatter(x[:,0], y) # afficher les résultats. x_1 en abscisse et y en ordonnée"
      ],
      "metadata": {
        "colab": {
          "base_uri": "https://localhost:8080/",
          "height": 286
        },
        "id": "6NJWnP-nLQTt",
        "outputId": "9f771ad4-8629-43d2-a312-500c9265b45c"
      },
      "execution_count": 21,
      "outputs": [
        {
          "output_type": "execute_result",
          "data": {
            "text/plain": [
              "<matplotlib.collections.PathCollection at 0x7efee44f9c90>"
            ]
          },
          "metadata": {},
          "execution_count": 21
        },
        {
          "output_type": "display_data",
          "data": {
            "text/plain": [
              "<Figure size 432x288 with 1 Axes>"
            ],
            "image/png": "[encoded data removed]"
          },
          "metadata": {
            "needs_background": "light"
          }
        }
      ]
    },
    {
      "cell_type": "markdown",
      "source": [
        "Ce Dataset ne contenant que 2 variables  x1 et X2\n",
        " il est possible de le visualiser dans un espace 3D. Comme vous pouvez le voir, ce modèle peut être représenté par une surface. Au passage, cette surface est plane car make_regression nous retourne des données linéaire. Si on veut créer une surface non plane, il suffit de modifier la valeur de y comme nous l'avons fait au début de ce notebook. (Nous ne le ferons pas ici)"
      ],
      "metadata": {
        "id": "nsevc-l0LURl"
      }
    },
    {
      "cell_type": "code",
      "source": [
        "from mpl_toolkits.mplot3d import Axes3D\n",
        "%matplotlib notebook #activez cette ligne pour manipuler le graph 3D\n",
        "\n",
        "ax = fig.add_subplot(111, projection='3d')\n",
        "\n",
        "ax.scatter(x[:,0], x[:,1], y) # affiche en 3D la variable x_1, x_2, et la target y\n",
        "\n",
        "# affiche les noms des axes\n",
        "ax.set_xlabel('x_1')\n",
        "ax.set_ylabel('x_2')\n",
        "ax.set_zlabel('y')"
      ],
      "metadata": {
        "colab": {
          "base_uri": "https://localhost:8080/"
        },
        "id": "-HOnqjYKLZsH",
        "outputId": "57a4a0f6-a090-4bc5-bbc1-64d7eb839b53"
      },
      "execution_count": 45,
      "outputs": [
        {
          "output_type": "stream",
          "name": "stderr",
          "text": [
            "UsageError: unrecognized arguments: #activez cette ligne pour manipuler le graph 3D\n"
          ]
        }
      ]
    },
    {
      "cell_type": "code",
      "source": [
        ""
      ],
      "metadata": {
        "id": "-fnviYqCMhgt"
      },
      "execution_count": null,
      "outputs": []
    },
    {
      "cell_type": "code",
      "source": [
        "# Verification des dimensions\n",
        "print(x.shape)\n",
        "print(y.shape)\n",
        "\n",
        "# redimensionner y\n",
        "y = y.reshape(y.shape[0], 1)\n",
        "print(y.shape)"
      ],
      "metadata": {
        "colab": {
          "base_uri": "https://localhost:8080/"
        },
        "id": "hUyQ6RlvMAtP",
        "outputId": "46b52078-437a-4d26-ae2c-ce83097f90fa"
      },
      "execution_count": 30,
      "outputs": [
        {
          "output_type": "stream",
          "name": "stdout",
          "text": [
            "(100, 2)\n",
            "(100,)\n",
            "(100, 1)\n"
          ]
        }
      ]
    },
    {
      "cell_type": "code",
      "source": [
        "# Création de la matrice X, inclut le Biais\n",
        "X = np.hstack((x, np.ones((x.shape[0], 1)))) # ajoute un vecteur Biais de dimension (x.shape[0], 1)\n",
        "\n",
        "print(X.shape)\n",
        "print(X[:10])"
      ],
      "metadata": {
        "colab": {
          "base_uri": "https://localhost:8080/"
        },
        "id": "jpVSp5RoMitt",
        "outputId": "0f85fe25-c125-4e4a-88ea-70ee78b80dac"
      },
      "execution_count": 40,
      "outputs": [
        {
          "output_type": "stream",
          "name": "stdout",
          "text": [
            "(100, 3)\n",
            "[[ 1.05445173 -1.07075262  1.        ]\n",
            " [-0.36274117 -0.63432209  1.        ]\n",
            " [-0.85409574  0.3130677   1.        ]\n",
            " [ 1.3263859   0.29823817  1.        ]\n",
            " [-0.4615846  -1.31590741  1.        ]\n",
            " [ 1.94362119 -1.17312341  1.        ]\n",
            " [-1.60205766  0.62523145  1.        ]\n",
            " [-0.40178094  0.17742614  1.        ]\n",
            " [-0.97727788  1.86755799  1.        ]\n",
            " [ 0.37816252  0.15494743  1.        ]]\n"
          ]
        }
      ]
    },
    {
      "cell_type": "code",
      "source": [
        "# Initialisation du vecteur theta aléatoire, avec 3 éléments (car X a trois colonnes)\n",
        "theta = np.random.randn(3, 1)\n",
        "theta"
      ],
      "metadata": {
        "colab": {
          "base_uri": "https://localhost:8080/"
        },
        "id": "P245r9mvMj_O",
        "outputId": "19b5a777-5c1b-476f-a0f4-77d28826f36d"
      },
      "execution_count": 42,
      "outputs": [
        {
          "output_type": "execute_result",
          "data": {
            "text/plain": [
              "array([[-1.26459544],\n",
              "       [ 0.85693318],\n",
              "       [-0.49399435]])"
            ]
          },
          "metadata": {},
          "execution_count": 42
        }
      ]
    },
    {
      "cell_type": "markdown",
      "source": [
        "# 2.2 Modèle Linéaire\n",
        "# 2.3 Fonction Cout\n",
        "# 2.4 Gradient Descent\n",
        "Nos fonctions étant déjà implémentées, inutile de les réécrire. Passons imédiatement à la phase d'entrainement !\n",
        "\n",
        "# 2.5 Phase d'entrainement"
      ],
      "metadata": {
        "id": "UNXK_ZthNDMe"
      }
    },
    {
      "cell_type": "code",
      "source": [
        "n_iterations = 1000\n",
        "learning_rate = 0.01\n",
        "\n",
        "theta_final, cost_history = gradient_descent(X, y, theta, learning_rate, n_iterations)"
      ],
      "metadata": {
        "id": "lKd_vzzUNLWJ"
      },
      "execution_count": 46,
      "outputs": []
    },
    {
      "cell_type": "code",
      "source": [
        "# création d'un vecteur prédictions qui contient les prédictions de notre modele final\n",
        "predictions = model(X, theta_final)\n",
        "\n",
        "theta_final"
      ],
      "metadata": {
        "colab": {
          "base_uri": "https://localhost:8080/"
        },
        "id": "pji7cqn8NOyn",
        "outputId": "9437d607-6506-44f0-c544-8c350c7f96fc"
      },
      "execution_count": 47,
      "outputs": [
        {
          "output_type": "execute_result",
          "data": {
            "text/plain": [
              "array([[28.67153869],\n",
              "       [97.2952491 ],\n",
              "       [-0.51147823]])"
            ]
          },
          "metadata": {},
          "execution_count": 47
        }
      ]
    },
    {
      "cell_type": "code",
      "source": [
        "fig = plt.figure()\n",
        "ax = fig.add_subplot(111, projection='3d')\n",
        "\n",
        "ax.scatter(x[:,0], x[:,1], y)\n",
        "ax.scatter(x[:,0], x[:,1], predictions)"
      ],
      "metadata": {
        "colab": {
          "base_uri": "https://localhost:8080/",
          "height": 266
        },
        "id": "HQHTUOwNNTNA",
        "outputId": "a9f605eb-6356-40e0-9002-a1429f3a5999"
      },
      "execution_count": 48,
      "outputs": [
        {
          "output_type": "execute_result",
          "data": {
            "text/plain": [
              "<mpl_toolkits.mplot3d.art3d.Path3DCollection at 0x7efee44af410>"
            ]
          },
          "metadata": {},
          "execution_count": 48
        },
        {
          "output_type": "display_data",
          "data": {
            "text/plain": [
              "<Figure size 432x288 with 1 Axes>"
            ],
            "image/png": "[encoded data removed]"
          },
          "metadata": {
            "needs_background": "light"
          }
        }
      ]
    },
    {
      "cell_type": "markdown",
      "source": [
        "# 2.6 Courbe d'apprentissage"
      ],
      "metadata": {
        "id": "ftOy_hdqNVZZ"
      }
    },
    {
      "cell_type": "code",
      "source": [
        "plt.plot(range(n_iterations), cost_history)"
      ],
      "metadata": {
        "colab": {
          "base_uri": "https://localhost:8080/",
          "height": 282
        },
        "id": "qwDnVNGUNWM-",
        "outputId": "f10d2de7-b76d-4740-855e-e883637abb23"
      },
      "execution_count": 49,
      "outputs": [
        {
          "output_type": "execute_result",
          "data": {
            "text/plain": [
              "[<matplotlib.lines.Line2D at 0x7efee4622a10>]"
            ]
          },
          "metadata": {},
          "execution_count": 49
        },
        {
          "output_type": "display_data",
          "data": {
            "text/plain": [
              "<Figure size 432x288 with 1 Axes>"
            ],
            "image/png": "[encoded data removed]"
          },
          "metadata": {
            "needs_background": "light"
          }
        }
      ]
    },
    {
      "cell_type": "markdown",
      "source": [
        "# 1.7 Evaluation finale"
      ],
      "metadata": {
        "id": "1ahUCqvhNZ6P"
      }
    },
    {
      "cell_type": "code",
      "source": [
        "coef_determination(y, predictions)"
      ],
      "metadata": {
        "colab": {
          "base_uri": "https://localhost:8080/"
        },
        "id": "-xCWrPtHNavv",
        "outputId": "d8a9bde0-1916-4145-fc7d-da38a929a216"
      },
      "execution_count": 50,
      "outputs": [
        {
          "output_type": "execute_result",
          "data": {
            "text/plain": [
              "0.9916687122229687"
            ]
          },
          "metadata": {},
          "execution_count": 50
        }
      ]
    }
  ]
}